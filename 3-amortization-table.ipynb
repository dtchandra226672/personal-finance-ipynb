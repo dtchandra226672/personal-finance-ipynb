{
 "cells": [
  {
   "cell_type": "markdown",
   "metadata": {},
   "source": [
    "# Amortization and Debt"
   ]
  },
  {
   "cell_type": "code",
   "execution_count": null,
   "metadata": {},
   "outputs": [],
   "source": [
    "# Manual using formulae\n",
    "loan = 3000\n",
    "rate = 0.0575\n",
    "duration = 14\n",
    "\n",
    "payment = loan * (rate/12) / (1 - (1 + (rate/12))**(-duration))\n",
    "print(round(payment,2))"
   ]
  },
  {
   "cell_type": "code",
   "execution_count": null,
   "metadata": {},
   "outputs": [],
   "source": [
    "# Automated using Numpy Financial\n",
    "import numpy_financial as npf\n",
    "import numpy as np\n",
    "\n",
    "pmt = round(-npf.pmt(rate/12, duration, loan),2)\n",
    "pmt"
   ]
  },
  {
   "cell_type": "code",
   "execution_count": null,
   "metadata": {},
   "outputs": [],
   "source": [
    "import pandas as pd\n",
    "\n",
    "balance = loan\n",
    "df = pd.DataFrame({\n",
    "    'month': [0],\n",
    "    'payment': [np.NaN],\n",
    "    'interest': [np.NaN],\n",
    "    'principal': [np.NaN],\n",
    "    'balance': [balance]\n",
    "})\n",
    "\n",
    "for a in range (1, duration + 1):\n",
    "    interest = round(rate/12 * balance, 2)\n",
    "    principal = pmt - interest\n",
    "    balance -= principal\n",
    "\n",
    "    df.loc[a] = [a, pmt, interest, principal, balance]\n",
    "\n",
    "df"
   ]
  },
  {
   "cell_type": "code",
   "execution_count": null,
   "metadata": {},
   "outputs": [],
   "source": [
    "balance = loan\n",
    "index = range(0, duration + 1)\n",
    "columns = ['month', 'payment', 'interest', 'principal', 'balance']\n",
    "df_b = pd.DataFrame(index=index, columns=columns)\n",
    "df_b.loc[0] = [0, np.NaN, np.NaN, np.NaN, balance]\n",
    "\n",
    "for i in range(1, 15):\n",
    "    interest = round(rate/12 * balance, 2)\n",
    "    principal = pmt - interest\n",
    "    balance -= principal\n",
    "\n",
    "    df_b.loc[i] = [i, pmt, interest, principal, balance]\n",
    "df_b"
   ]
  },
  {
   "cell_type": "markdown",
   "metadata": {},
   "source": [
    "### Amortization Table Function Generator"
   ]
  },
  {
   "cell_type": "code",
   "execution_count": null,
   "metadata": {},
   "outputs": [],
   "source": [
    "import numpy_financial as npf\n",
    "\n",
    "def amort(pv, apr, n):\n",
    "    remain_balance = pv\n",
    "    rate = apr/12;\n",
    "    duration = n;\n",
    "    pmt = round(npf.pmt(rate, duration, -remain_balance, 0), 2)\n",
    "\n",
    "    y_axis = range(1, duration + 1)\n",
    "    x_axis = ['month', '0% pmt', 'payment', 'interest', 'principal', 'balance']\n",
    "    amort_df = pd.DataFrame(index = y_axis, columns= x_axis)\n",
    "    # amort_df.loc[0] = [0, np.NaN, np.NaN, np.NaN, np.NaN, remain_balance]\n",
    "    amort_df.loc[0, 'month'] = 0;\n",
    "    amort_df.loc[0, 'balance'] = remain_balance;\n",
    "\n",
    "\n",
    "    for i in range(1, duration + 1):\n",
    "        interest = round(rate * remain_balance, 2)\n",
    "        principal = pmt - interest\n",
    "        remain_balance -= principal\n",
    "        pmt_wo_interest = pv / duration\n",
    "        amort_df.loc[i] = [i, pmt_wo_interest, pmt, interest, principal, remain_balance]\n",
    "\n",
    "    \n",
    "    print('monthly pmt deviation:', round(pmt - pmt_wo_interest,2))\n",
    "    print('total deviation:', f\"{pmt * duration - pv:,.2f}\")\n",
    "    return amort_df"
   ]
  },
  {
   "cell_type": "markdown",
   "metadata": {},
   "source": [
    "### Compare the installment between 2 banks for your iDevice purchase"
   ]
  },
  {
   "cell_type": "code",
   "execution_count": null,
   "metadata": {},
   "outputs": [],
   "source": [
    "%%timeit\n",
    "amort(5949, 0.0879, 6)"
   ]
  },
  {
   "cell_type": "code",
   "execution_count": null,
   "metadata": {},
   "outputs": [],
   "source": [
    "amort(5949, 0.1019, 3)"
   ]
  },
  {
   "cell_type": "markdown",
   "metadata": {},
   "source": [
    "### Compare the installment between three options below\n",
    "A. Pineapple (5.75%, 14 mo.)\\\n",
    "B. Orange (3.99%, 20 mo.)\\\n",
    "C. Banana (8.99%, 8 mo.)\n",
    "\n",
    "Assume loan amount of $3,000. **Which one is the better option (pays the least interest)?**\n"
   ]
  },
  {
   "cell_type": "code",
   "execution_count": null,
   "metadata": {},
   "outputs": [],
   "source": [
    "print('Pineapple -- Option A')\n",
    "pineapple = amort(3000,0.0575,14)\n",
    "print()\n",
    "\n",
    "print('Orange -- Option B')\n",
    "orange = amort(3000,0.0399,20)\n",
    "print()\n",
    "\n",
    "print('Banana -- Option C')\n",
    "banana = amort(3000,0.0899,8)"
   ]
  },
  {
   "cell_type": "markdown",
   "metadata": {},
   "source": [
    "∴ It shows that Option C is better (less interest paid), even though with the cost of higher monthly payment."
   ]
  }
 ],
 "metadata": {
  "kernelspec": {
   "display_name": "base",
   "language": "python",
   "name": "python3"
  },
  "language_info": {
   "codemirror_mode": {
    "name": "ipython",
    "version": 3
   },
   "file_extension": ".py",
   "mimetype": "text/x-python",
   "name": "python",
   "nbconvert_exporter": "python",
   "pygments_lexer": "ipython3",
   "version": "3.12.4"
  }
 },
 "nbformat": 4,
 "nbformat_minor": 2
}
