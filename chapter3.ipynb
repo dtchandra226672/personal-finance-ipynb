{
 "cells": [
  {
   "cell_type": "markdown",
   "metadata": {},
   "source": [
    "# Chapter 3: Convert"
   ]
  },
  {
   "cell_type": "code",
   "execution_count": 11,
   "metadata": {},
   "outputs": [
    {
     "name": "stdout",
     "output_type": "stream",
     "text": [
      "Your local API key is: fca_live_1hacNUuN18uG6Eyy8Ezc1W9itBu0y3OJ7479o0NW\n"
     ]
    },
    {
     "data": {
      "text/plain": [
       "{'EUR': 0.9139101772, 'USD': 1}"
      ]
     },
     "execution_count": 11,
     "metadata": {},
     "output_type": "execute_result"
    }
   ],
   "source": [
    "import os\n",
    "from dotenv import load_dotenv, find_dotenv\n",
    "load_dotenv(find_dotenv())\n",
    "\n",
    "API_KEY = os.environ.get('FC_API_KEY')\n",
    "print (\"Your local API key is:\", API_KEY)\n",
    "\n",
    "import requests\n",
    "r = requests.get(\n",
    "    'https://api.freecurrencyapi.com/v1/latest?',\n",
    "    params = {\n",
    "        'apikey': API_KEY,\n",
    "        'currencies': 'EUR,USD',\n",
    "    }\n",
    ")\n",
    "\n",
    "rates_ = r.json()['data']\n",
    "rates_"
   ]
  },
  {
   "cell_type": "code",
   "execution_count": 12,
   "metadata": {},
   "outputs": [
    {
     "data": {
      "text/plain": [
       "2741.7305316"
      ]
     },
     "execution_count": 12,
     "metadata": {},
     "output_type": "execute_result"
    }
   ],
   "source": [
    "symbol_from = 'USD'\n",
    "symbol_to = 'EUR'\n",
    "value = 3000\n",
    "\n",
    "value * 1/rates_.get(symbol_from) * rates_.get(symbol_to)"
   ]
  },
  {
   "cell_type": "code",
   "execution_count": 13,
   "metadata": {},
   "outputs": [
    {
     "ename": "NameError",
     "evalue": "name 'self' is not defined",
     "output_type": "error",
     "traceback": [
      "\u001b[0;31m---------------------------------------------------------------------------\u001b[0m",
      "\u001b[0;31mNameError\u001b[0m                                 Traceback (most recent call last)",
      "Cell \u001b[0;32mIn[13], line 1\u001b[0m\n\u001b[0;32m----> 1\u001b[0m \u001b[38;5;28;01mclass\u001b[39;00m \u001b[38;5;21;01mCurrencyConverter\u001b[39;00m:\n\u001b[1;32m      2\u001b[0m     \u001b[38;5;28;01mdef\u001b[39;00m \u001b[38;5;21m__init__\u001b[39m(\u001b[38;5;28mself\u001b[39m, symbols, API_KEY):\n\u001b[1;32m      3\u001b[0m         \u001b[38;5;28mself\u001b[39m\u001b[38;5;241m.\u001b[39mAPI_KEY \u001b[38;5;241m=\u001b[39m API_KEY\n",
      "Cell \u001b[0;32mIn[13], line 10\u001b[0m, in \u001b[0;36mCurrencyConverter\u001b[0;34m()\u001b[0m\n\u001b[1;32m      4\u001b[0m     \u001b[38;5;28mself\u001b[39m\u001b[38;5;241m.\u001b[39msymbols \u001b[38;5;241m=\u001b[39m symbols\n\u001b[1;32m      5\u001b[0m     \u001b[38;5;28mself\u001b[39m\u001b[38;5;241m.\u001b[39m_symbols \u001b[38;5;241m=\u001b[39m \u001b[38;5;124m'\u001b[39m\u001b[38;5;124m,\u001b[39m\u001b[38;5;124m'\u001b[39m\u001b[38;5;241m.\u001b[39mjoin([\u001b[38;5;28mstr\u001b[39m(s) \u001b[38;5;28;01mfor\u001b[39;00m s \u001b[38;5;129;01min\u001b[39;00m symbols])\n\u001b[1;32m      7\u001b[0m r \u001b[38;5;241m=\u001b[39m requests\u001b[38;5;241m.\u001b[39mget(\n\u001b[1;32m      8\u001b[0m     \u001b[38;5;124m'\u001b[39m\u001b[38;5;124mttps://api.freecurrencyapi.com/v1/latest?\u001b[39m\u001b[38;5;124m'\u001b[39m,\n\u001b[1;32m      9\u001b[0m     params \u001b[38;5;241m=\u001b[39m {\n\u001b[0;32m---> 10\u001b[0m         \u001b[38;5;124m'\u001b[39m\u001b[38;5;124mapikey\u001b[39m\u001b[38;5;124m'\u001b[39m: \u001b[38;5;28mself\u001b[39m\u001b[38;5;241m.\u001b[39mAPI_KEY,\n\u001b[1;32m     11\u001b[0m         \u001b[38;5;124m'\u001b[39m\u001b[38;5;124mcurrencies\u001b[39m\u001b[38;5;124m'\u001b[39m: \u001b[38;5;28mself\u001b[39m\u001b[38;5;241m.\u001b[39m_symbols,\n\u001b[1;32m     12\u001b[0m         }\n\u001b[1;32m     13\u001b[0m     )\n\u001b[1;32m     15\u001b[0m \u001b[38;5;28mself\u001b[39m\u001b[38;5;241m.\u001b[39mrates_ \u001b[38;5;241m=\u001b[39m r\u001b[38;5;241m.\u001b[39mjson()[\u001b[38;5;124m'\u001b[39m\u001b[38;5;124mdata\u001b[39m\u001b[38;5;124m'\u001b[39m]\n\u001b[1;32m     16\u001b[0m \u001b[38;5;28mself\u001b[39m\u001b[38;5;241m.\u001b[39mrates_[\u001b[38;5;124m'\u001b[39m\u001b[38;5;124mUSD\u001b[39m\u001b[38;5;124m'\u001b[39m] \u001b[38;5;241m=\u001b[39m \u001b[38;5;241m1\u001b[39m\n",
      "\u001b[0;31mNameError\u001b[0m: name 'self' is not defined"
     ]
    }
   ],
   "source": [
    "class CurrencyConverter:\n",
    "    def __init__(self, symbols, API_KEY):\n",
    "        self.API_KEY = API_KEY\n",
    "        self.symbols = symbols\n",
    "        self._symbols = ','.join([str(s) for s in symbols])\n",
    "\n",
    "    r = requests.get(\n",
    "        'ttps://api.freecurrencyapi.com/v1/latest?',\n",
    "        params = {\n",
    "            'apikey': self.API_KEY,\n",
    "            'currencies': self._symbols,\n",
    "            }\n",
    "        )\n",
    "\n",
    "    self.rates_ = r.json()['data']\n",
    "    self.rates_['USD'] = 1\n",
    "\n",
    "def convert (self, value, symbol_from, symbol_to, round_output=True):\n",
    "    try:\n",
    "        x = (value\n",
    "            * 1/self.rates_.get(symbol_from)\n",
    "            * self.rates_.get(symbol_to))\n",
    "        if round_output:\n",
    "            return round(x, 2)\n",
    "        else:\n",
    "            return x\n",
    "    except TypeError:\n",
    "        print ('Unavailable or invalid symbol!')\n",
    "        return None"
   ]
  }
 ],
 "metadata": {
  "kernelspec": {
   "display_name": "base",
   "language": "python",
   "name": "python3"
  },
  "language_info": {
   "codemirror_mode": {
    "name": "ipython",
    "version": 3
   },
   "file_extension": ".py",
   "mimetype": "text/x-python",
   "name": "python",
   "nbconvert_exporter": "python",
   "pygments_lexer": "ipython3",
   "version": "3.12.4"
  }
 },
 "nbformat": 4,
 "nbformat_minor": 2
}
