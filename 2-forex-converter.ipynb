{
 "cells": [
  {
   "cell_type": "markdown",
   "metadata": {},
   "source": [
    "# Foreign Exchange Calculator and Converter"
   ]
  },
  {
   "cell_type": "code",
   "execution_count": null,
   "metadata": {},
   "outputs": [],
   "source": [
    "import os\n",
    "from dotenv import load_dotenv, find_dotenv\n",
    "load_dotenv(find_dotenv())\n",
    "\n",
    "API_KEY = os.environ.get('FC_API_KEY')\n",
    "print (\"Your local API key is:\", API_KEY)\n",
    "\n",
    "import requests\n",
    "r = requests.get(\n",
    "    'https://api.freecurrencyapi.com/v1/latest?',\n",
    "    params = {\n",
    "        'apikey': API_KEY,\n",
    "        'currencies': 'EUR,USD',\n",
    "    }\n",
    ")\n",
    "\n",
    "rates_ = r.json()['data']\n",
    "rates_"
   ]
  },
  {
   "cell_type": "code",
   "execution_count": null,
   "metadata": {},
   "outputs": [],
   "source": [
    "symbol_from = 'USD'\n",
    "symbol_to = 'EUR'\n",
    "value = 3000\n",
    "\n",
    "value * 1/rates_.get(symbol_from) * rates_.get(symbol_to)"
   ]
  },
  {
   "cell_type": "code",
   "execution_count": null,
   "metadata": {},
   "outputs": [],
   "source": [
    "# get API key from enviroment\n",
    "API_KEY = os.environ.get('FC_API_KEY')\n",
    "\n",
    "# main class function\n",
    "class CurrencyConverter:\n",
    "    def __init__(self, currency_from, currency_to, api_key):\n",
    "        self.apiKey  = api_key\n",
    "        # self.symbols = symbols\n",
    "        self.curFrom = (currency_from)\n",
    "        self.curTo   = currency_to\n",
    "\n",
    "        r = requests.get(\n",
    "            'https://api.freecurrencyapi.com/v1/latest?',\n",
    "            params = {\n",
    "                'apikey': self.apiKey,\n",
    "                'currencies': ','.join(self.curTo),\n",
    "                'base_currency': self.curFrom\n",
    "                }\n",
    "            )\n",
    "        self.rates = r.json()['data']\n",
    "        # self.rates_['USD'] = 1\n",
    "\n",
    "    def convert (self, value, symbol_from, symbol_to, round_output=True):\n",
    "        # print(len(symbol_to))\n",
    "        try:\n",
    "            converted = (value * self.rates.get(symbol_to))\n",
    "            if round_output:\n",
    "                print (f\"{value:,}\", symbol_from, 'equals to', f\"{converted:,.2f}\", symbol_to)\n",
    "            else:\n",
    "                return converted\n",
    "        except TypeError:\n",
    "            print ('Unavailable or invalid symbol!')\n",
    "\n",
    "currency_from = 'HKD'\n",
    "currency_to = 'USD','EUR','IDR','SEK','DKK','NOK','AUD','CNY','HKD','SGD','CAD'\n",
    "amount = 5949\n",
    "\n",
    "c = CurrencyConverter(currency_from, currency_to, API_KEY)\n",
    "\n",
    "for x in range(len(currency_to)):\n",
    "    c.convert(amount, currency_from, currency_to[x])"
   ]
  },
  {
   "cell_type": "code",
   "execution_count": null,
   "metadata": {},
   "outputs": [],
   "source": [
    "c.rates"
   ]
  },
  {
   "cell_type": "code",
   "execution_count": null,
   "metadata": {},
   "outputs": [],
   "source": [
    "import pandas as pd\n",
    "df = pd.read_excel('~/Downloads/xirr.xlsx', sheet_name=\"irregular\")\n",
    "df['total'] = df.income + df.expenses\n",
    "\n",
    "# main class function\n",
    "class CurrencyConverter:\n",
    "    def __init__(self, symbols, api_key):\n",
    "        self.apiKey  = api_key\n",
    "        self.symbols = (symbols)\n",
    "        # self.curFrom = (currency_from)\n",
    "        # self.curTo   = currency_to\n",
    "\n",
    "        r = requests.get(\n",
    "            'https://api.freecurrencyapi.com/v1/latest?',\n",
    "            params = {\n",
    "                'apikey': self.apiKey,\n",
    "                'currencies': self.symbols\n",
    "                # 'base_currency': self.curFrom\n",
    "                }\n",
    "            )\n",
    "        self.rates_ = r.json()['data']\n",
    "        # self.rates_['USD'] = 1\n",
    "\n",
    "    def convert (self, value, symbol_from, round_output=True):\n",
    "        # print(len(symbol_to))\n",
    "        try:\n",
    "            x = (value \n",
    "                * 1/self.rates_.get(symbol_from)) \n",
    "                # * self.rates_.get(symbol_to)) \n",
    "            if round_output: \n",
    "                return round(x, 2) \n",
    "            else: \n",
    "                return x\n",
    "        except TypeError:\n",
    "            print ('Unavailable or invalid symbol!')\n",
    "            return None\n",
    "\n",
    "d = CurrencyConverter(['CAD'], API_KEY)\n",
    "\n",
    "# Values in this table in USD, instead of CAD\n",
    "df['total'].apply(lambda x: d.convert(x, 'CAD'))"
   ]
  }
 ],
 "metadata": {
  "kernelspec": {
   "display_name": "base",
   "language": "python",
   "name": "python3"
  },
  "language_info": {
   "codemirror_mode": {
    "name": "ipython",
    "version": 3
   },
   "file_extension": ".py",
   "mimetype": "text/x-python",
   "name": "python",
   "nbconvert_exporter": "python",
   "pygments_lexer": "ipython3",
   "version": "3.12.4"
  }
 },
 "nbformat": 4,
 "nbformat_minor": 2
}
