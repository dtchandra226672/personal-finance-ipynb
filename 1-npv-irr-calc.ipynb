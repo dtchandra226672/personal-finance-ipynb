{
 "cells": [
  {
   "cell_type": "markdown",
   "metadata": {},
   "source": [
    "# Calculate Net Present Value (NPV) and Internal Return Rate (IRR) using py"
   ]
  },
  {
   "cell_type": "code",
   "execution_count": null,
   "metadata": {},
   "outputs": [],
   "source": [
    "def xpnv(rate, values, dates):\n",
    "    '''Replicates the XNPV() function in Microsoft Excel'''\n",
    "    min_date = min(dates)\n",
    "    return sum([\n",
    "        values / (1+rate)**((dates - min_date).days / 365)\n",
    "        for values, dates\n",
    "        in zip(values, dates)\n",
    "    ])"
   ]
  },
  {
   "cell_type": "code",
   "execution_count": null,
   "metadata": {},
   "outputs": [],
   "source": [
    "import pandas as pd\n",
    "\n",
    "df = pd.read_excel('~/Downloads/xirr.xlsx', sheet_name=\"regular\")\n",
    "df['Total'] = df.income + df.expenses\n",
    "\n",
    "df"
   ]
  },
  {
   "cell_type": "code",
   "execution_count": null,
   "metadata": {},
   "outputs": [],
   "source": [
    "x = df.Total\n",
    "y = df.date\n",
    "print('Values:', list(x))\n",
    "print('Dates:', list(y))\n",
    "\n",
    "rate = 0.05\n",
    "min_date = min(y)\n",
    "print(min_date)\n",
    "\n",
    "xpnv(rate, x, y)\n"
   ]
  },
  {
   "cell_type": "code",
   "execution_count": null,
   "metadata": {},
   "outputs": [],
   "source": [
    "from scipy.optimize import newton\n",
    "\n",
    "def xirr(a, b):\n",
    "    '''Replicates the XIRR() function'''\n",
    "    return newton(lambda r: xpnv(r, a, b), 0)\n",
    "\n",
    "xirr(x, y)"
   ]
  }
 ],
 "metadata": {
  "kernelspec": {
   "display_name": "base",
   "language": "python",
   "name": "python3"
  },
  "language_info": {
   "codemirror_mode": {
    "name": "ipython",
    "version": 3
   },
   "file_extension": ".py",
   "mimetype": "text/x-python",
   "name": "python",
   "nbconvert_exporter": "python",
   "pygments_lexer": "ipython3",
   "version": "3.12.4"
  }
 },
 "nbformat": 4,
 "nbformat_minor": 2
}
