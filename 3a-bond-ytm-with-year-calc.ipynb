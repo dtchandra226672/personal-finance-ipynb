{
 "cells": [
  {
   "cell_type": "markdown",
   "metadata": {},
   "source": [
    "parameters of the bonds to-be-calculated"
   ]
  },
  {
   "cell_type": "code",
   "execution_count": 22,
   "metadata": {},
   "outputs": [],
   "source": [
    "from datetime import datetime\n",
    "import numpy_financial as npf\n",
    "\n",
    "future_value        = 1000000\n",
    "yield_rate          = 0.05125\n",
    "coupon_frequency    = 2 # semi-annual payment (twice a year)\n",
    "maturity_date       = datetime(2027, 4, 15)\n",
    "present_value_perc  = 0.975 # face-value"
   ]
  },
  {
   "cell_type": "markdown",
   "metadata": {},
   "source": [
    "calculating the nper (time until maturity in years)"
   ]
  },
  {
   "cell_type": "code",
   "execution_count": 23,
   "metadata": {},
   "outputs": [],
   "source": [
    "# Define today's date and the target date\n",
    "today = datetime.now()\n",
    "    # today = datetime(2024, 7, 15)\n",
    "target_date = maturity_date\n",
    "    # target_date = datetime.now()\n",
    "\n",
    "# Calculate the difference in years\n",
    "difference_in_days = (target_date - today).days\n",
    "difference_in_years = difference_in_days / 365.25 # Approximate days per year, accounting for leap years\n",
    "\n",
    "nper = difference_in_years * coupon_frequency"
   ]
  },
  {
   "cell_type": "markdown",
   "metadata": {},
   "source": [
    "calculating the coupon payment value"
   ]
  },
  {
   "cell_type": "code",
   "execution_count": 24,
   "metadata": {},
   "outputs": [],
   "source": [
    "pmt             = yield_rate * future_value / coupon_frequency\n",
    "present_value   = present_value_perc * future_value * (-1)"
   ]
  },
  {
   "cell_type": "markdown",
   "metadata": {},
   "source": [
    "use npf rate to find bond's ytm"
   ]
  },
  {
   "cell_type": "code",
   "execution_count": null,
   "metadata": {},
   "outputs": [],
   "source": [
    "print (\"Bond Yield-to-Maturity (YTM):\", round(npf.rate(nper, pmt, present_value, future_value) * coupon_frequency * 100, 2), \"%\")"
   ]
  }
 ],
 "metadata": {
  "kernelspec": {
   "display_name": "base",
   "language": "python",
   "name": "python3"
  },
  "language_info": {
   "codemirror_mode": {
    "name": "ipython",
    "version": 3
   },
   "file_extension": ".py",
   "mimetype": "text/x-python",
   "name": "python",
   "nbconvert_exporter": "python",
   "pygments_lexer": "ipython3",
   "version": "3.12.4"
  }
 },
 "nbformat": 4,
 "nbformat_minor": 2
}
