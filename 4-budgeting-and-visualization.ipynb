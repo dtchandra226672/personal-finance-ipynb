{
 "cells": [
  {
   "cell_type": "code",
   "execution_count": null,
   "metadata": {},
   "outputs": [],
   "source": [
    "import datetime\n",
    "\n",
    "date_1 = datetime.datetime.now()\n",
    "print(date_1)\n",
    "print(date_1.__repr__())\n",
    "print(type(date_1))\n",
    "\n",
    "date_2 = datetime.date.today()\n",
    "print(date_2)\n",
    "print(date_2.__repr__())\n",
    "print(type(date_2))\n",
    "\n",
    "date_3=datetime.datetime(1993,6,7,15,51,23)\n",
    "print(date_3)\n",
    "print(type(date_3))"
   ]
  },
  {
   "cell_type": "code",
   "execution_count": null,
   "metadata": {},
   "outputs": [],
   "source": [
    "import pandas as pd\n",
    "\n",
    "print(pd.Timestamp(date_1))\n",
    "print(pd.to_datetime(date_1))\n",
    "\n",
    "date_4 = pd.Timestamp(1993,6,9,6,8,9)\n",
    "\n",
    "print(date_4)\n",
    "print(date_4.normalize())"
   ]
  },
  {
   "cell_type": "code",
   "execution_count": null,
   "metadata": {},
   "outputs": [],
   "source": [
    "TODAY = pd.Timestamp.today().normalize()\n",
    "print(TODAY)\n",
    "END = TODAY + pd.Timedelta(days=365)\n",
    "print(END)"
   ]
  },
  {
   "cell_type": "code",
   "execution_count": null,
   "metadata": {},
   "outputs": [],
   "source": [
    "calendar = pd.DataFrame(index=pd.date_range(start=TODAY,end=END,freq=\"D\"))\n",
    "\n",
    "print(calendar.head())"
   ]
  },
  {
   "cell_type": "code",
   "execution_count": null,
   "metadata": {},
   "outputs": [],
   "source": [
    "# semi-monthly end frequency (15th and End of Month)\n",
    "print('Semi-month End:')\n",
    "sm = pd.date_range(start=TODAY, end=END, freq='SME')\n",
    "print(sm)\n",
    "\n",
    "print('\\n')\n",
    "\n",
    "# month frequency\n",
    "print('Month Start:')\n",
    "ms=pd.date_range(start=TODAY, end=END, freq='MS')\n",
    "print(ms)"
   ]
  },
  {
   "cell_type": "code",
   "execution_count": null,
   "metadata": {},
   "outputs": [],
   "source": [
    "income = pd.DataFrame(\n",
    "    data={'income': 1000},\n",
    "    index=pd.date_range(start=TODAY, end=END, freq='SME')\n",
    ")\n",
    "\n",
    "rent = pd.DataFrame(\n",
    "    data={'rent': -500},\n",
    "    index=pd.date_range(start=TODAY, end=END, freq='MS')\n",
    ")\n",
    "\n",
    "# print(income.head())\n",
    "# print(rent.head(10))\n",
    "\n",
    "calendar = pd.concat([calendar, rent], axis=1).fillna(0)\n",
    "calendar = pd.concat([calendar, income], axis=1).fillna(0)\n",
    "# calendar.head(10)\n",
    "\n",
    "calendar.loc[\n",
    "    (calendar.index >= '2025-01-30') &\n",
    "    (calendar.index <= '2025-02-02')\n",
    "]"
   ]
  },
  {
   "cell_type": "code",
   "execution_count": null,
   "metadata": {},
   "outputs": [],
   "source": [
    "# totaling the dataframe\n",
    "\n",
    "calendar['total'] = calendar.sum(axis=1)\n",
    "calendar['cum_total'] = calendar.total.cumsum()\n",
    "\n",
    "calendar.tail()"
   ]
  },
  {
   "cell_type": "code",
   "execution_count": null,
   "metadata": {},
   "outputs": [],
   "source": [
    "from matplotlib import pyplot as plt\n",
    "%matplotlib inline\n",
    "\n",
    "plt.figure(figsize=(10,5))\n",
    "plt.plot(calendar.index, calendar['total'], label='Daily Total')\n",
    "plt.plot(calendar.index, calendar['cum_total'], label='Cumulative Total')\n",
    "# https://stackoverflow.com/questions/41130255/accessing-pandas-column-using-squared-brackets-vs-using-a-dot-like-an-attribute\n",
    "plt.legend()"
   ]
  },
  {
   "cell_type": "code",
   "execution_count": null,
   "metadata": {},
   "outputs": [],
   "source": [
    "bank = pd.DataFrame(\n",
    "    data={'bank': 2000},\n",
    "    index=pd.date_range(start=TODAY, end=TODAY)\n",
    ")\n",
    "\n",
    "calendar = pd.concat([calendar, bank], axis=1).fillna(0)\n",
    "calendar.tail()"
   ]
  },
  {
   "cell_type": "code",
   "execution_count": null,
   "metadata": {},
   "outputs": [],
   "source": [
    "def update_totals(df):\n",
    "    if df.columns.isin(['total', 'cum_total']).any():\n",
    "        df['total'] = 0\n",
    "        df['cum_total'] = 0\n",
    "    df['total'] = df.sum(axis=1)\n",
    "    df['cum_total'] = df['total'].cumsum()\n",
    "    # return df\n",
    "\n",
    "def plot_budget(df):\n",
    "    plt.figure(figsize=(10,5))\n",
    "    plt.plot(df.index, df['total'], label='Daily Total')\n",
    "    plt.plot(df.index, df['cum_total'], label='Cumulative Total')\n",
    "    plt.grid(True)\n",
    "    plt.legend()\n",
    "\n",
    "update_totals(calendar)\n",
    "calendar.tail()\n",
    "\n",
    "plot_budget(calendar)"
   ]
  },
  {
   "cell_type": "markdown",
   "metadata": {},
   "source": [
    "##### Vacation"
   ]
  },
  {
   "cell_type": "code",
   "execution_count": null,
   "metadata": {},
   "outputs": [],
   "source": [
    "vacation = pd.DataFrame(\n",
    "    data={'vacay':-2500},\n",
    "    index=[pd.Timestamp('2025-05-03').normalize()]\n",
    ")\n",
    "\n",
    "calendar = pd.concat([calendar, vacation], axis=1).fillna(0)\n",
    "\n",
    "update_totals(calendar)\n",
    "plot_budget(calendar)\n",
    "\n",
    "\n",
    "# vacayyy tooo boujeeee\n",
    "calendar = calendar.drop('vacay', axis=1)\n",
    "\n",
    "update_totals(calendar)\n",
    "plot_budget(calendar)"
   ]
  }
 ],
 "metadata": {
  "kernelspec": {
   "display_name": "Python 3.9.7 ('base')",
   "language": "python",
   "name": "python3"
  },
  "language_info": {
   "codemirror_mode": {
    "name": "ipython",
    "version": 3
   },
   "file_extension": ".py",
   "mimetype": "text/x-python",
   "name": "python",
   "nbconvert_exporter": "python",
   "pygments_lexer": "ipython3",
   "version": "3.12.4"
  },
  "orig_nbformat": 4,
  "vscode": {
   "interpreter": {
    "hash": "ad2bdc8ecc057115af97d19610ffacc2b4e99fae6737bb82f5d7fb13d2f2c186"
   }
  }
 },
 "nbformat": 4,
 "nbformat_minor": 2
}
